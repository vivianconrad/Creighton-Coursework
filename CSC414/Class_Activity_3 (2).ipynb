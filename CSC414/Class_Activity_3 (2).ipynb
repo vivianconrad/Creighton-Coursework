{
 "cells": [
  {
   "cell_type": "markdown",
   "metadata": {
    "id": "xTCUJiE31SE7"
   },
   "source": [
    "# Number Conversion\n",
    "Our objective is to understand and apply logical convertion of numerical representations from one base to another. The following questions have been designed to help you do the same."
   ]
  },
  {
   "cell_type": "markdown",
   "metadata": {
    "id": "P_-0473bDTye"
   },
   "source": [
    "## Question - 1\n",
    "Write Python code that does the following. \n",
    "\n",
    "- Create a function called **base_10_to_base_y_convertor** which accpets **base_10_value** and **base_y** as a parameter, where given an integer value i.e Base 10 (base_10_value), we convert it to another Base value (base_y), where base_y can be any integer above 1. \n",
    "\n",
    "Ex-1: Consider base_10_value=324 and base_y=2, which is provided to the function **base_10_to_base_y_convertor**\n",
    "- We will go on to convert 324 which is in base 10 to '101000100' which is the (base_y) base 2 representation of the base_10_value\n",
    "- Hence the output_value = '101000100'\n",
    "\n",
    "Ex-2: Consider base_10_value=12269 and base_y=16, which is provided to the function **base_10_to_base_y_convertor**\n",
    "- We will go on to convert 12269 which is in base 10 to '2fed' which is the (base_y) base 2 representation of the base_10_value\n",
    "- Hence the output_value = '2fed'\n",
    "*- Note: The alphabet representations in the output_value is always in lower case*\n",
    "\n",
    "\n",
    "**Conditions to follow:**\n",
    "- The output should be a string format similar to test cases mentioned below\n",
    "- Inbuilt functions which require no import and Datatype methods can be used to solve this problem but No arbitray functions or library can be used.\n",
    "\n",
    "\n",
    "---\n",
    "\n",
    "TEST CASES:\n",
    "\n",
    "```\n",
    "Input Value: 324 in Base: 2 is 101000100\n",
    "\n",
    "Input Value: 12269 in Base: 16 is 2fed\n",
    "\n",
    "Input Value: 24587455 in Base: 21 is 608ji4\n",
    "```\n",
    "---\n",
    "\n",
    "Hint: You can use built in methods like ord() and chr() with other built in methods and data type/string methods to create the solution to solve this problem.\n"
   ]
  },
  {
   "cell_type": "markdown",
   "metadata": {
    "id": "gR7eOt_rDTyh"
   },
   "source": [
    "### Code"
   ]
  },
  {
   "cell_type": "code",
   "execution_count": 1,
   "metadata": {
    "colab": {
     "base_uri": "https://localhost:8080/"
    },
    "collapsed": true,
    "id": "f3ky7fFZDTyl",
    "outputId": "8f90168a-5768-4338-88c6-aed221a83649"
   },
   "outputs": [
    {
     "name": "stdout",
     "output_type": "stream",
     "text": [
      "Input Value: 324 in Base: 2 is \n",
      "\n"
     ]
    },
    {
     "ename": "TypeError",
     "evalue": "can only concatenate str (not \"int\") to str",
     "output_type": "error",
     "traceback": [
      "\u001b[1;31m---------------------------------------------------------------------------\u001b[0m",
      "\u001b[1;31mTypeError\u001b[0m                                 Traceback (most recent call last)",
      "\u001b[1;32m~\\AppData\\Local\\Temp/ipykernel_24016/3210446655.py\u001b[0m in \u001b[0;36m<module>\u001b[1;34m\u001b[0m\n\u001b[0;32m     25\u001b[0m \u001b[1;32mfor\u001b[0m \u001b[0mbase_10_value\u001b[0m\u001b[1;33m,\u001b[0m \u001b[0mbase_y\u001b[0m \u001b[1;32min\u001b[0m \u001b[0minput_tuple_list\u001b[0m\u001b[1;33m:\u001b[0m\u001b[1;33m\u001b[0m\u001b[1;33m\u001b[0m\u001b[0m\n\u001b[0;32m     26\u001b[0m     \u001b[1;31m# CALL the base_10_to_base_y_convertor with required parameters\u001b[0m\u001b[1;33m\u001b[0m\u001b[1;33m\u001b[0m\u001b[0m\n\u001b[1;32m---> 27\u001b[1;33m     \u001b[0moutput_value\u001b[0m \u001b[1;33m=\u001b[0m \u001b[0mbase_10_to_base_y_convertor\u001b[0m\u001b[1;33m(\u001b[0m\u001b[0mbase_10_value\u001b[0m\u001b[1;33m=\u001b[0m\u001b[0mbase_10_value\u001b[0m\u001b[1;33m,\u001b[0m \u001b[0mbase_y\u001b[0m\u001b[1;33m=\u001b[0m\u001b[0mbase_y\u001b[0m\u001b[1;33m)\u001b[0m\u001b[1;33m\u001b[0m\u001b[1;33m\u001b[0m\u001b[0m\n\u001b[0m\u001b[0;32m     28\u001b[0m     \u001b[1;31m# Print the output\u001b[0m\u001b[1;33m\u001b[0m\u001b[1;33m\u001b[0m\u001b[0m\n\u001b[0;32m     29\u001b[0m     \u001b[0mprint\u001b[0m\u001b[1;33m(\u001b[0m\u001b[1;34m\"Input Value: {0} in Base: {1} is {2}\\n\"\u001b[0m\u001b[1;33m.\u001b[0m\u001b[0mformat\u001b[0m\u001b[1;33m(\u001b[0m\u001b[0mbase_10_value\u001b[0m\u001b[1;33m,\u001b[0m \u001b[0mbase_y\u001b[0m\u001b[1;33m,\u001b[0m \u001b[0moutput_value\u001b[0m\u001b[1;33m)\u001b[0m\u001b[1;33m)\u001b[0m\u001b[1;33m\u001b[0m\u001b[1;33m\u001b[0m\u001b[0m\n",
      "\u001b[1;32m~\\AppData\\Local\\Temp/ipykernel_24016/3210446655.py\u001b[0m in \u001b[0;36mbase_10_to_base_y_convertor\u001b[1;34m(base_10_value, base_y)\u001b[0m\n\u001b[0;32m     10\u001b[0m         \u001b[1;32mif\u001b[0m \u001b[0moutputVariable\u001b[0m \u001b[1;33m>\u001b[0m \u001b[1;36m9\u001b[0m\u001b[1;33m:\u001b[0m\u001b[1;33m\u001b[0m\u001b[1;33m\u001b[0m\u001b[0m\n\u001b[0;32m     11\u001b[0m             \u001b[0mincrement_val\u001b[0m \u001b[1;33m=\u001b[0m \u001b[0moutputVariable\u001b[0m \u001b[1;33m-\u001b[0m \u001b[1;36m10\u001b[0m\u001b[1;33m\u001b[0m\u001b[1;33m\u001b[0m\u001b[0m\n\u001b[1;32m---> 12\u001b[1;33m             \u001b[0moutputVariable\u001b[0m \u001b[1;33m=\u001b[0m \u001b[0mchr\u001b[0m\u001b[1;33m(\u001b[0m\u001b[0mord\u001b[0m\u001b[1;33m(\u001b[0m\u001b[1;34m'A'\u001b[0m \u001b[1;33m+\u001b[0m \u001b[0mincrement_val\u001b[0m\u001b[1;33m)\u001b[0m\u001b[1;33m)\u001b[0m\u001b[1;33m\u001b[0m\u001b[1;33m\u001b[0m\u001b[0m\n\u001b[0m\u001b[0;32m     13\u001b[0m             \u001b[0moutputVariable\u001b[0m \u001b[1;33m=\u001b[0m \u001b[0moutputVariable\u001b[0m\u001b[1;33m.\u001b[0m\u001b[0mlower\u001b[0m\u001b[1;33m\u001b[0m\u001b[1;33m\u001b[0m\u001b[0m\n\u001b[0;32m     14\u001b[0m \u001b[1;33m\u001b[0m\u001b[0m\n",
      "\u001b[1;31mTypeError\u001b[0m: can only concatenate str (not \"int\") to str"
     ]
    }
   ],
   "source": [
    "# DECLARE the function base_10_to_base_y_convertor()\n",
    "def base_10_to_base_y_convertor(base_10_value, base_y=2):\n",
    "    # Initialize the output string\n",
    "    basey_output = \"\"\n",
    "    \n",
    "    # write code here\n",
    "    while base_10_value > 0:\n",
    "        outputVariable = base_10_value % base_y\n",
    "        \n",
    "        if outputVariable > 9:\n",
    "            increment_val = outputVariable - 10\n",
    "            outputVariable = chr(ord('A' + increment_val))\n",
    "            outputVariable = outputVariable.lower\n",
    "            \n",
    "        output_base_y = str(outputVariable) + basey_output\n",
    "        base_10_value = base_10_value // base_y\n",
    "\n",
    "    # Return the output string\n",
    "    return basey_output\n",
    "\n",
    "### TEST CASES ###\n",
    "\n",
    "# Initialize the input values\n",
    "input_tuple_list = [(324, 2), (12269, 16), (24587455, 21)]\n",
    "for base_10_value, base_y in input_tuple_list:\n",
    "    # CALL the base_10_to_base_y_convertor with required parameters\n",
    "    output_value = base_10_to_base_y_convertor(base_10_value=base_10_value, base_y=base_y)\n",
    "    # Print the output\n",
    "    print(\"Input Value: {0} in Base: {1} is {2}\\n\".format(base_10_value, base_y, output_value))"
   ]
  },
  {
   "cell_type": "markdown",
   "metadata": {
    "id": "zpCFI-S2DTyy"
   },
   "source": [
    "## Question - 2\n",
    "Write Python code that does the following. \n",
    "\n",
    "- Create a function called **base_z_to_base_y_convertor** which accpets **base_z_value**, **base_z** and **base_y** as a parameter, where given an integer value (base_z_value) of a Base Z (base_z), we convert it to another Base value (base_y), where base_y can be any integer above 1. \n",
    "\n",
    "Ex-1: Consider base_z_value=254ajr, base_z=28 and base_y=2, which is provided to the function **base_z_to_base_y_convertor**\n",
    "- We will go on to convert 254ajr (base_z_value) which is in base 28 (base_z) to '10001111011001010011001111' which is the (base_y) base 2 representation of the base_z_value\n",
    "- Hence the output_value = '10001111011001010011001111'\n",
    "*- Note: The alphabet representations in the base_z_value or output_value is always in lower case*\n",
    "\n",
    "Ex-1: Consider base_z_value=abd89g, base_z=23 and base_y=10, which is provided to the function **base_z_to_base_y_convertor**\n",
    "- We will go on to convert abd89g (base_z_value) which is in base 23 (base_z) to '67604307' which is the (base_y) base 10 representation of the base_z_value\n",
    "- Hence the output_value = '67604307'\n",
    "*- Note: The alphabet representations in the base_z_value or output_value is always in lower case*\n",
    "\n",
    "\n",
    "**Conditions to follow:**\n",
    "- The output should be a string format similar to test cases mentioned below\n",
    "- Inbuilt functions which require no import and Datatype methods can be used to solve this problem but No arbitray functions or library can be used.\n",
    "\n",
    "---\n",
    "\n",
    "TEST CASES:\n",
    "\n",
    "```\n",
    "Input Value: 254ajr which is currently in Base: 28 in Base: 2 is 10001111011001010011001111\n",
    "\n",
    "Input Value: 111101101111101101010001111011 which is currently in Base: 2 in Base: 28 is 245a1qj\n",
    "\n",
    "Input Value: abd89g which is currently in Base: 23 in Base: 10 is 67604307\n",
    "```\n",
    "---\n",
    "\n",
    "Hint: You can use built in methods like ord() and chr() with other built in methods and data type/string methods to create the solution to solve this problem and methods/functions created in Question-1 can also be used."
   ]
  },
  {
   "cell_type": "code",
   "execution_count": null,
   "metadata": {},
   "outputs": [],
   "source": [
    "# DECLARE the function base_10_to_base_y_convertor()\n",
    "def base_10_to_base_y_convertor(base_z_value, base_z, base_y):\n",
    "    # Initialize the output string\n",
    "    base_z_output = \"\"\n",
    "    \n",
    "    # write code here\n",
    "    while base_z_value > 0:\n",
    "        outputVariable = base_z_value % base_y\n",
    "        \n",
    "        if outputVariable > 9:\n",
    "            increment_val = outputVariable - base_z_input\n",
    "            outputVariable = chr(ord('A' + increment_val))\n",
    "            outputVariable = outputVariable.lower\n",
    "            \n",
    "        output_base_y = str(outputVariable) + base_z_output\n",
    "        base_10_value = base_z_value // base_y\n",
    "\n",
    "    # Return the output string\n",
    "    return base_z_output\n",
    "\n",
    "### TEST CASES ###\n",
    "\n",
    "# Initialize the input values\n",
    "input_tuple_list = [(324, 2), (12269, 16), (24587455, 21)]\n",
    "for base_10_value, base_y in input_tuple_list:\n",
    "    # CALL the base_10_to_base_y_convertor with required parameters\n",
    "    output_value = base_10_to_base_y_convertor(base_10_value=base_10_value, base_y=base_y)\n",
    "    # Print the output\n",
    "    print(\"Input Value: {0} in Base: {1} is {2}\\n\".format(base_10_value, base_y, output_value))"
   ]
  }
 ],
 "metadata": {
  "colab": {
   "collapsed_sections": [],
   "name": "Class_Activity_3.ipynb",
   "provenance": []
  },
  "kernelspec": {
   "display_name": "Python 3 (ipykernel)",
   "language": "python",
   "name": "python3"
  },
  "language_info": {
   "codemirror_mode": {
    "name": "ipython",
    "version": 3
   },
   "file_extension": ".py",
   "mimetype": "text/x-python",
   "name": "python",
   "nbconvert_exporter": "python",
   "pygments_lexer": "ipython3",
   "version": "3.9.7"
  }
 },
 "nbformat": 4,
 "nbformat_minor": 1
}
